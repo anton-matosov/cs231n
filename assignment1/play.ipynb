{
 "cells": [
  {
   "cell_type": "code",
   "execution_count": 2,
   "metadata": {},
   "outputs": [],
   "source": [
    "import numpy as np"
   ]
  },
  {
   "cell_type": "code",
   "execution_count": 18,
   "metadata": {},
   "outputs": [
    {
     "name": "stdout",
     "output_type": "stream",
     "text": [
      "(10, 5)\n",
      "(100, 5)\n"
     ]
    }
   ],
   "source": [
    "test = np.random.rand(10, 5)\n",
    "train = np.random.rand(100, 5)\n",
    "\n",
    "print(test.shape)\n",
    "print(train.shape)"
   ]
  },
  {
   "cell_type": "code",
   "execution_count": 41,
   "metadata": {},
   "outputs": [
    {
     "name": "stdout",
     "output_type": "stream",
     "text": [
      "(5,)\n",
      "(100, 5)\n",
      "(100, 5)\n",
      "(100,)\n"
     ]
    }
   ],
   "source": [
    "for i in range(test.shape[0]):\n",
    "    print(test[i].shape)\n",
    "    print(train.shape)\n",
    "    # break\n",
    "    dist = test[i] - train\n",
    "    print(dist.shape)\n",
    "    print(np.sqrt(np.sum(np.square(dist), axis=1)))\n",
    "    break"
   ]
  },
  {
   "cell_type": "code",
   "execution_count": 62,
   "metadata": {},
   "outputs": [
    {
     "ename": "SyntaxError",
     "evalue": "invalid syntax (3578148458.py, line 7)",
     "output_type": "error",
     "traceback": [
      "\u001b[1;36m  Cell \u001b[1;32mIn[62], line 7\u001b[1;36m\u001b[0m\n\u001b[1;33m    dist =\u001b[0m\n\u001b[1;37m           ^\u001b[0m\n\u001b[1;31mSyntaxError\u001b[0m\u001b[1;31m:\u001b[0m invalid syntax\n"
     ]
    }
   ],
   "source": [
    "print(test.shape)\n",
    "print(train.shape)\n",
    "\n",
    "sx = np.sum(test ** 2, axis=1, keepdims=True)\n",
    "sy = np.sum(train ** 2, axis=1, keepdims=True)\n",
    "print(sx.shape, sy.shape)\n",
    "dist = \n"
   ]
  },
  {
   "cell_type": "code",
   "execution_count": 72,
   "metadata": {},
   "outputs": [
    {
     "data": {
      "text/plain": [
       "{1: array([0., 0., 0., 0., 0.]),\n",
       " 3: array([0., 0., 0., 0., 0.]),\n",
       " 5: array([0., 0., 0., 0., 0.])}"
      ]
     },
     "execution_count": 72,
     "metadata": {},
     "output_type": "execute_result"
    }
   ],
   "source": [
    "k_to_accuracies = {}\n",
    "k_to_accuracies[1] = np.zeros(5)\n",
    "k_to_accuracies[3] = np.zeros(5)\n",
    "k_to_accuracies[5] = np.zeros(5)\n",
    "k_to_accuracies"
   ]
  },
  {
   "cell_type": "code",
   "execution_count": 73,
   "metadata": {},
   "outputs": [
    {
     "data": {
      "text/plain": [
       "{1: array([0., 0., 0., 0., 0.]),\n",
       " 3: array([0., 0., 1., 0., 0.]),\n",
       " 5: array([0., 0., 0., 0., 0.])}"
      ]
     },
     "execution_count": 73,
     "metadata": {},
     "output_type": "execute_result"
    }
   ],
   "source": [
    "k_to_accuracies[3][2] = 1\n",
    "k_to_accuracies"
   ]
  }
 ],
 "metadata": {
  "kernelspec": {
   "display_name": "Python 3",
   "language": "python",
   "name": "python3"
  },
  "language_info": {
   "codemirror_mode": {
    "name": "ipython",
    "version": 3
   },
   "file_extension": ".py",
   "mimetype": "text/x-python",
   "name": "python",
   "nbconvert_exporter": "python",
   "pygments_lexer": "ipython3",
   "version": "3.10.9"
  },
  "orig_nbformat": 4,
  "vscode": {
   "interpreter": {
    "hash": "dc9198d752fabc74015ca3ce8d5de7530466fab88e0eb7c14aeb98fcedbad7af"
   }
  }
 },
 "nbformat": 4,
 "nbformat_minor": 2
}

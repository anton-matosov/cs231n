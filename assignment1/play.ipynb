{
 "cells": [
  {
   "cell_type": "code",
   "execution_count": 1,
   "metadata": {},
   "outputs": [],
   "source": [
    "import numpy as np"
   ]
  },
  {
   "cell_type": "code",
   "execution_count": 2,
   "metadata": {},
   "outputs": [
    {
     "name": "stdout",
     "output_type": "stream",
     "text": [
      "(10, 5)\n",
      "(100, 5)\n"
     ]
    }
   ],
   "source": [
    "test = np.random.rand(10, 5)\n",
    "train = np.random.rand(100, 5)\n",
    "\n",
    "print(test.shape)\n",
    "print(train.shape)"
   ]
  },
  {
   "cell_type": "code",
   "execution_count": 3,
   "metadata": {},
   "outputs": [
    {
     "name": "stdout",
     "output_type": "stream",
     "text": [
      "(5,)\n",
      "(100, 5)\n",
      "(100, 5)\n",
      "[0.84349679 0.42985413 0.56242944 0.78752791 0.90720621 0.91477398\n",
      " 0.88008958 0.59575978 0.81208463 0.72901732 0.95812595 0.5295127\n",
      " 0.88880349 0.52897657 0.85694175 0.74943982 0.74472262 0.93350556\n",
      " 0.42783561 0.61185103 0.82950715 1.10199408 0.98646574 0.84965764\n",
      " 1.06522234 0.74205601 1.05678511 0.63013621 0.59093293 0.7055831\n",
      " 1.20375546 0.64906181 0.88787092 0.59149799 0.62417243 1.05180058\n",
      " 0.58205338 1.12571154 0.75624599 0.41414082 0.94045162 0.54093631\n",
      " 0.76199227 0.97182066 0.758349   1.0833207  0.75652757 0.93399973\n",
      " 0.45703805 1.01082827 0.91694832 0.96075389 0.39373449 0.8794\n",
      " 0.50883252 0.79052163 0.77783962 0.97396274 0.86192608 0.69688655\n",
      " 1.07879905 1.20299344 0.98972615 0.73669622 0.48343877 0.69318123\n",
      " 0.60272381 0.91599055 1.01297564 1.12879039 0.89368724 0.41139509\n",
      " 0.44798077 0.94779409 0.89632111 0.69837606 0.81910619 0.53161294\n",
      " 1.01041286 1.04757313 0.96981607 0.65621044 0.62699361 0.74179306\n",
      " 0.74326421 0.73058309 0.40958744 1.03844881 0.99884103 0.66180224\n",
      " 0.69785681 0.94339918 0.64678372 1.06017512 0.98233723 0.45913449\n",
      " 0.87336082 0.89684304 0.87695595 0.98608435]\n"
     ]
    }
   ],
   "source": [
    "for i in range(test.shape[0]):\n",
    "    print(test[i].shape)\n",
    "    print(train.shape)\n",
    "    # break\n",
    "    dist = test[i] - train\n",
    "    print(dist.shape)\n",
    "    print(np.sqrt(np.sum(np.square(dist), axis=1)))\n",
    "    break"
   ]
  },
  {
   "cell_type": "code",
   "execution_count": 4,
   "metadata": {},
   "outputs": [
    {
     "ename": "SyntaxError",
     "evalue": "invalid syntax (3578148458.py, line 7)",
     "output_type": "error",
     "traceback": [
      "\u001b[1;36m  Cell \u001b[1;32mIn[4], line 7\u001b[1;36m\u001b[0m\n\u001b[1;33m    dist =\u001b[0m\n\u001b[1;37m           ^\u001b[0m\n\u001b[1;31mSyntaxError\u001b[0m\u001b[1;31m:\u001b[0m invalid syntax\n"
     ]
    }
   ],
   "source": [
    "print(test.shape)\n",
    "print(train.shape)\n",
    "\n",
    "sx = np.sum(test ** 2, axis=1, keepdims=True)\n",
    "sy = np.sum(train ** 2, axis=1, keepdims=True)\n",
    "print(sx.shape, sy.shape)\n",
    "dist = \n"
   ]
  },
  {
   "cell_type": "code",
   "execution_count": null,
   "metadata": {},
   "outputs": [
    {
     "data": {
      "text/plain": [
       "{1: array([0., 0., 0., 0., 0.]),\n",
       " 3: array([0., 0., 0., 0., 0.]),\n",
       " 5: array([0., 0., 0., 0., 0.])}"
      ]
     },
     "execution_count": 72,
     "metadata": {},
     "output_type": "execute_result"
    }
   ],
   "source": [
    "k_to_accuracies = {}\n",
    "k_to_accuracies[1] = np.zeros(5)\n",
    "k_to_accuracies[3] = np.zeros(5)\n",
    "k_to_accuracies[5] = np.zeros(5)\n",
    "k_to_accuracies"
   ]
  },
  {
   "cell_type": "code",
   "execution_count": null,
   "metadata": {},
   "outputs": [
    {
     "data": {
      "text/plain": [
       "{1: array([0., 0., 0., 0., 0.]),\n",
       " 3: array([0., 0., 1., 0., 0.]),\n",
       " 5: array([0., 0., 0., 0., 0.])}"
      ]
     },
     "execution_count": 73,
     "metadata": {},
     "output_type": "execute_result"
    }
   ],
   "source": [
    "k_to_accuracies[3][2] = 1\n",
    "k_to_accuracies"
   ]
  },
  {
   "cell_type": "code",
   "execution_count": null,
   "metadata": {},
   "outputs": [],
   "source": [
    "a = 2\n",
    "b = 4\n",
    "c = 10\n",
    "\n",
    "def f():\n",
    "    \n",
    "    return x"
   ]
  },
  {
   "cell_type": "code",
   "execution_count": null,
   "metadata": {},
   "outputs": [
    {
     "data": {
      "text/plain": [
       "60"
      ]
     },
     "execution_count": 6,
     "metadata": {},
     "output_type": "execute_result"
    }
   ],
   "source": [
    "y = 100\n",
    "\n",
    "f()"
   ]
  },
  {
   "cell_type": "code",
   "execution_count": null,
   "metadata": {},
   "outputs": [
    {
     "data": {
      "text/plain": [
       "1600"
      ]
     },
     "execution_count": 10,
     "metadata": {},
     "output_type": "execute_result"
    }
   ],
   "source": [
    "def loss(x):\n",
    "    return \n",
    "loss(f())"
   ]
  },
  {
   "cell_type": "code",
   "execution_count": 81,
   "metadata": {},
   "outputs": [
    {
     "name": "stdout",
     "output_type": "stream",
     "text": [
      "loss 40.109544511501035\n",
      "loss (40.10954815587194-0.018648776665887545j)\n",
      "loss (40.10955914745679-0.037297545590461494j)\n",
      "loss (40.10957748623476-0.055946298986691116j)\n",
      "loss (40.10960317217098-0.07459502906761845j)\n",
      "loss (40.109636205216624-0.09324372804639461j)\n",
      "loss (40.109676585309025-0.11189238813631615j)\n",
      "loss (40.10972431237144-0.1305410015508618j)\n",
      "loss (40.109779386313214-0.14918956050372897j)\n",
      "loss (40.10984180702968-0.16783805720886957j)\n",
      "loss (40.109911574402254-0.18648648388052722j)\n",
      "loss (40.10998868829839-0.20513483273327296j)\n",
      "loss (40.11007314857159-0.22378309598204252j)\n",
      "loss (40.11016495506143-0.2424312658421723j)\n",
      "loss (40.1102641075934-0.26107933452943616j)\n",
      "loss (40.110370605979206-0.2797272942600796j)\n",
      "loss (40.110484450016436-0.2983751372508601j)\n",
      "loss (40.11060563948894-0.3170228557190807j)\n",
      "loss (40.1107341741664-0.3356704418826273j)\n",
      "loss (40.11087005380463-0.35431788796000546j)\n",
      "(1.999955650106626+0.015811071627555656j) (3.9999556501066316+0.015811071627555656j) (9.999952901129902+0.00948654746101319j) (59.99853042812684+0.3731383864952382j)\n"
     ]
    }
   ],
   "source": [
    "# train\n",
    "a = 2\n",
    "b = 4\n",
    "c = 10\n",
    "y = 100\n",
    "\n",
    "reg_lambda = 0.01\n",
    "\n",
    "step_size = 0.00001\n",
    "for i in range(2000):\n",
    "    ab = (a + b)\n",
    "    x = ab * c\n",
    "\n",
    "    diff = (x - y)\n",
    "    regularization = reg_lambda * np.sqrt(a**2 + b**2 + c**2)\n",
    "    loss = np.sqrt(diff ** 2) + regularization\n",
    "\n",
    "    regularization_delta = 0.5 * ((2 * a + 2 * b + 2 * c) ** -0.5)\n",
    "    diff_delta =  0.5 * ((diff) ** -0.5)\n",
    "    x_delta = diff_delta\n",
    "    c_delta =  ab * x_delta\n",
    "    ab_delta = c * x_delta\n",
    "    a_delta = ab_delta\n",
    "    b_delta = ab_delta\n",
    "\n",
    "    a += -step_size * a_delta\n",
    "    b += -step_size * b_delta\n",
    "    c += -step_size * c_delta\n",
    "\n",
    "    if i % 100 == 0:\n",
    "        print('loss', loss)\n",
    "\n",
    "print(a,b,c, (a+b)*c)\n",
    "\n",
    "# no reg values 3.487509365124666  5.487509365124658 11.056569703896121   99.23292018477491\n",
    "# with reg      3.5161939493653467 5.51619394936541  11.081133256747599   100.08909393246995"
   ]
  },
  {
   "cell_type": "code",
   "execution_count": 66,
   "metadata": {},
   "outputs": [
    {
     "name": "stdout",
     "output_type": "stream",
     "text": [
      "4\n",
      "0.3535533905932738\n",
      "0.35355339059327373\n"
     ]
    }
   ],
   "source": [
    "g = 4\n",
    "g_mod = np.sqrt(g)\n",
    "print(g)\n",
    "g_delta = (0.5 * ((g_mod) ** -0.5))\n",
    "print(g_delta)\n",
    "\n",
    "g_delta = 1 / (2 * np.sqrt(g_mod))\n",
    "print(g_delta)"
   ]
  },
  {
   "cell_type": "code",
   "execution_count": null,
   "metadata": {},
   "outputs": [],
   "source": []
  }
 ],
 "metadata": {
  "kernelspec": {
   "display_name": "Python 3",
   "language": "python",
   "name": "python3"
  },
  "language_info": {
   "codemirror_mode": {
    "name": "ipython",
    "version": 3
   },
   "file_extension": ".py",
   "mimetype": "text/x-python",
   "name": "python",
   "nbconvert_exporter": "python",
   "pygments_lexer": "ipython3",
   "version": "3.10.9"
  },
  "orig_nbformat": 4,
  "vscode": {
   "interpreter": {
    "hash": "dc9198d752fabc74015ca3ce8d5de7530466fab88e0eb7c14aeb98fcedbad7af"
   }
  }
 },
 "nbformat": 4,
 "nbformat_minor": 2
}

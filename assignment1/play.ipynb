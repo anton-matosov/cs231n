{
 "cells": [
  {
   "cell_type": "code",
   "execution_count": 1,
   "metadata": {},
   "outputs": [],
   "source": [
    "import numpy as np"
   ]
  },
  {
   "cell_type": "code",
   "execution_count": 2,
   "metadata": {},
   "outputs": [
    {
     "name": "stdout",
     "output_type": "stream",
     "text": [
      "(10, 5)\n",
      "(100, 5)\n"
     ]
    }
   ],
   "source": [
    "test = np.random.rand(10, 5)\n",
    "train = np.random.rand(100, 5)\n",
    "\n",
    "print(test.shape)\n",
    "print(train.shape)"
   ]
  },
  {
   "cell_type": "code",
   "execution_count": 3,
   "metadata": {},
   "outputs": [
    {
     "name": "stdout",
     "output_type": "stream",
     "text": [
      "(5,)\n",
      "(100, 5)\n",
      "(100, 5)\n",
      "[0.62437459 0.65742059 0.58000449 0.73547818 0.54572376 0.4292982\n",
      " 0.59573198 0.72482991 0.75854637 1.04023316 1.09069041 0.49724219\n",
      " 0.69657954 0.52695327 0.41880869 0.77349961 0.77190563 0.80652952\n",
      " 1.08641691 1.07609435 0.54184451 0.72411387 0.83499351 0.96652921\n",
      " 0.60941753 0.58425309 0.85222533 0.50252056 0.95849984 0.67665308\n",
      " 0.75182    0.68969265 0.74832775 0.71772586 0.71662386 0.85477831\n",
      " 0.79215022 0.80762172 0.75855108 0.99762007 0.49125267 0.80037215\n",
      " 0.88668618 0.9644343  0.55617505 1.08662657 0.75682409 0.82664827\n",
      " 0.78373142 0.45036988 0.79055205 0.52226962 0.57597946 0.46395354\n",
      " 0.75304131 0.8868453  1.08420195 0.58451388 0.40796892 0.71350235\n",
      " 0.67278246 0.78335246 0.77380209 0.97605648 0.31428842 0.87484266\n",
      " 0.60514127 0.68139715 0.85177488 1.00817596 0.64761234 0.67870244\n",
      " 0.76305604 0.92708021 0.547782   0.66153266 0.81241691 0.76282532\n",
      " 0.825238   0.74309389 1.25181143 0.84917459 0.67461826 0.87303576\n",
      " 0.47030916 0.62746798 1.06100224 0.9400134  0.94496236 0.69787662\n",
      " 0.71251269 0.30265074 0.60150463 0.97523957 0.7572592  0.64191164\n",
      " 0.987784   0.50756168 0.67273649 0.76106156]\n"
     ]
    }
   ],
   "source": [
    "for i in range(test.shape[0]):\n",
    "    print(test[i].shape)\n",
    "    print(train.shape)\n",
    "    # break\n",
    "    dist = test[i] - train\n",
    "    print(dist.shape)\n",
    "    print(np.sqrt(np.sum(np.square(dist), axis=1)))\n",
    "    break"
   ]
  },
  {
   "cell_type": "code",
   "execution_count": 4,
   "metadata": {},
   "outputs": [
    {
     "ename": "SyntaxError",
     "evalue": "invalid syntax (3578148458.py, line 7)",
     "output_type": "error",
     "traceback": [
      "\u001b[1;36m  Cell \u001b[1;32mIn[4], line 7\u001b[1;36m\u001b[0m\n\u001b[1;33m    dist =\u001b[0m\n\u001b[1;37m           ^\u001b[0m\n\u001b[1;31mSyntaxError\u001b[0m\u001b[1;31m:\u001b[0m invalid syntax\n"
     ]
    }
   ],
   "source": [
    "print(test.shape)\n",
    "print(train.shape)\n",
    "\n",
    "sx = np.sum(test ** 2, axis=1, keepdims=True)\n",
    "sy = np.sum(train ** 2, axis=1, keepdims=True)\n",
    "print(sx.shape, sy.shape)\n",
    "dist = \n"
   ]
  },
  {
   "cell_type": "code",
   "execution_count": null,
   "metadata": {},
   "outputs": [
    {
     "data": {
      "text/plain": [
       "{1: array([0., 0., 0., 0., 0.]),\n",
       " 3: array([0., 0., 0., 0., 0.]),\n",
       " 5: array([0., 0., 0., 0., 0.])}"
      ]
     },
     "execution_count": 72,
     "metadata": {},
     "output_type": "execute_result"
    }
   ],
   "source": [
    "k_to_accuracies = {}\n",
    "k_to_accuracies[1] = np.zeros(5)\n",
    "k_to_accuracies[3] = np.zeros(5)\n",
    "k_to_accuracies[5] = np.zeros(5)\n",
    "k_to_accuracies"
   ]
  },
  {
   "cell_type": "code",
   "execution_count": null,
   "metadata": {},
   "outputs": [
    {
     "data": {
      "text/plain": [
       "{1: array([0., 0., 0., 0., 0.]),\n",
       " 3: array([0., 0., 1., 0., 0.]),\n",
       " 5: array([0., 0., 0., 0., 0.])}"
      ]
     },
     "execution_count": 73,
     "metadata": {},
     "output_type": "execute_result"
    }
   ],
   "source": [
    "k_to_accuracies[3][2] = 1\n",
    "k_to_accuracies"
   ]
  },
  {
   "cell_type": "code",
   "execution_count": null,
   "metadata": {},
   "outputs": [],
   "source": [
    "a = 2\n",
    "b = 4\n",
    "c = 10\n",
    "\n",
    "def f():\n",
    "    \n",
    "    return x"
   ]
  },
  {
   "cell_type": "code",
   "execution_count": null,
   "metadata": {},
   "outputs": [
    {
     "data": {
      "text/plain": [
       "60"
      ]
     },
     "execution_count": 6,
     "metadata": {},
     "output_type": "execute_result"
    }
   ],
   "source": [
    "y = 100\n",
    "\n",
    "f()"
   ]
  },
  {
   "cell_type": "code",
   "execution_count": null,
   "metadata": {},
   "outputs": [
    {
     "data": {
      "text/plain": [
       "1600"
      ]
     },
     "execution_count": 10,
     "metadata": {},
     "output_type": "execute_result"
    }
   ],
   "source": [
    "def loss(x):\n",
    "    return \n",
    "loss(f())"
   ]
  },
  {
   "cell_type": "code",
   "execution_count": null,
   "metadata": {},
   "outputs": [
    {
     "name": "stdout",
     "output_type": "stream",
     "text": [
      "loss 40.109544511501035\n",
      "loss (40.10954815587194-0.018648776665887545j)\n",
      "loss (40.10955914745679-0.037297545590461494j)\n",
      "loss (40.10957748623476-0.055946298986691116j)\n",
      "loss (40.10960317217098-0.07459502906761845j)\n",
      "loss (40.109636205216624-0.09324372804639461j)\n",
      "loss (40.109676585309025-0.11189238813631615j)\n",
      "loss (40.10972431237144-0.1305410015508618j)\n",
      "loss (40.109779386313214-0.14918956050372897j)\n",
      "loss (40.10984180702968-0.16783805720886957j)\n",
      "loss (40.109911574402254-0.18648648388052722j)\n",
      "loss (40.10998868829839-0.20513483273327296j)\n",
      "loss (40.11007314857159-0.22378309598204252j)\n",
      "loss (40.11016495506143-0.2424312658421723j)\n",
      "loss (40.1102641075934-0.26107933452943616j)\n",
      "loss (40.110370605979206-0.2797272942600796j)\n",
      "loss (40.110484450016436-0.2983751372508601j)\n",
      "loss (40.11060563948894-0.3170228557190807j)\n",
      "loss (40.1107341741664-0.3356704418826273j)\n",
      "loss (40.11087005380463-0.35431788796000546j)\n",
      "(1.999955650106626+0.015811071627555656j) (3.9999556501066316+0.015811071627555656j) (9.999952901129902+0.00948654746101319j) (59.99853042812684+0.3731383864952382j)\n"
     ]
    }
   ],
   "source": [
    "# train\n",
    "a = 2\n",
    "b = 4\n",
    "c = 10\n",
    "y = 100\n",
    "\n",
    "reg_lambda = 0.01\n",
    "\n",
    "step_size = 0.00001\n",
    "for i in range(2000):\n",
    "    ab = (a + b)\n",
    "    x = ab * c\n",
    "\n",
    "    diff = (x - y)\n",
    "    regularization = reg_lambda * np.sqrt(a**2 + b**2 + c**2)\n",
    "    loss = np.sqrt(diff ** 2) + regularization\n",
    "\n",
    "    regularization_delta = 0.5 * ((2 * a + 2 * b + 2 * c) ** -0.5)\n",
    "    diff_delta =  0.5 * ((diff) ** -0.5)\n",
    "    x_delta = diff_delta\n",
    "    c_delta =  ab * x_delta\n",
    "    ab_delta = c * x_delta\n",
    "    a_delta = ab_delta\n",
    "    b_delta = ab_delta\n",
    "\n",
    "    a += -step_size * a_delta\n",
    "    b += -step_size * b_delta\n",
    "    c += -step_size * c_delta\n",
    "\n",
    "    if i % 100 == 0:\n",
    "        print('loss', loss)\n",
    "\n",
    "print(a,b,c, (a+b)*c)\n",
    "\n",
    "# no reg values 3.487509365124666  5.487509365124658 11.056569703896121   99.23292018477491\n",
    "# with reg      3.5161939493653467 5.51619394936541  11.081133256747599   100.08909393246995"
   ]
  },
  {
   "cell_type": "code",
   "execution_count": null,
   "metadata": {},
   "outputs": [
    {
     "name": "stdout",
     "output_type": "stream",
     "text": [
      "4\n",
      "0.3535533905932738\n",
      "0.35355339059327373\n"
     ]
    }
   ],
   "source": [
    "g = 4\n",
    "g_mod = np.sqrt(g)\n",
    "print(g)\n",
    "g_delta = (0.5 * ((g_mod) ** -0.5))\n",
    "print(g_delta)\n",
    "\n",
    "g_delta = 1 / (2 * np.sqrt(g_mod))\n",
    "print(g_delta)"
   ]
  },
  {
   "cell_type": "code",
   "execution_count": 25,
   "metadata": {},
   "outputs": [
    {
     "name": "stdout",
     "output_type": "stream",
     "text": [
      "x =  -100.0  exp= 100.0\n",
      "x =  -104.81131341546853  exp= 104.81131341546853\n",
      "x =  -109.85411419875584  exp= 109.85411419875584\n",
      "x =  -115.1395399326447  exp= 115.1395399326447\n",
      "x =  -120.67926406393289  exp= 120.67926406393289\n",
      "x =  -126.48552168552958  exp= 126.48552168552958\n",
      "x =  -132.57113655901094  exp= 132.57113655901094\n",
      "x =  -138.94954943731375  exp= 138.94954943731375\n",
      "x =  -145.63484775012444  exp= 145.63484775012444\n",
      "x =  -152.64179671752333  exp= 152.64179671752333\n",
      "x =  -159.98587196060572  exp= 159.98587196060572\n",
      "x =  -167.68329368110082  exp= 167.68329368110082\n",
      "x =  -175.7510624854791  exp= 175.7510624854791\n",
      "x =  -184.20699693267164  exp= 184.20699693267164\n",
      "x =  -193.06977288832496  exp= 193.06977288832496\n",
      "x =  -202.35896477251575  exp= 202.35896477251575\n",
      "x =  -212.09508879201903  exp= 212.09508879201903\n",
      "x =  -222.29964825261956  exp= 222.29964825261956\n",
      "x =  -232.99518105153717  exp= 232.99518105153717\n",
      "x =  -244.205309454865  exp= 244.205309454865\n",
      "x =  -255.95479226995357  exp= 255.95479226995357\n",
      "x =  -268.26957952797244  exp= 268.26957952797244\n",
      "x =  -281.1768697974231  exp= 281.1768697974231\n",
      "x =  -294.705170255181  exp= 294.705170255181\n",
      "x =  -308.88435964774817  exp= 308.88435964774817\n",
      "x =  -323.74575428176433  exp= 323.74575428176433\n",
      "x =  -339.32217718953297  exp= 339.32217718953297\n",
      "x =  -355.64803062231283  exp= 355.64803062231283\n",
      "x =  -372.7593720314938  exp= 372.7593720314938\n",
      "x =  -390.6939937054617  exp= 390.6939937054617\n",
      "x =  -409.49150623804235  exp= 409.49150623804235\n",
      "x =  -429.1934260128778  exp= 429.1934260128778\n",
      "x =  -449.8432668969444  exp= 449.8432668969444\n",
      "x =  -471.48663634573944  exp= 471.48663634573944\n",
      "x =  -494.1713361323833  exp= 494.1713361323833\n",
      "x =  -517.9474679231213  exp= 517.9474679231213\n",
      "x =  -542.867543932386  exp= 542.867543932386\n",
      "x =  -568.9866029018293  exp= 568.9866029018293\n",
      "x =  -596.3623316594643  exp= 596.3623316594643\n",
      "x =  -625.0551925273969  exp= 625.0551925273969\n",
      "x =  -655.1285568595509  exp= 655.1285568595509\n",
      "x =  -686.6488450042998  exp= 686.6488450042998\n",
      "x =  -719.6856730011522  exp= inf\n",
      "x =  -754.3120063354615  exp= inf\n",
      "x =  -790.6043210907702  exp= inf\n",
      "x =  -828.6427728546843  exp= inf\n",
      "x =  -868.511373751352  exp= inf\n",
      "x =  -910.2981779915218  exp= inf\n",
      "x =  -954.0954763499944  exp= inf\n",
      "x =  -1000.0  exp= inf\n"
     ]
    },
    {
     "name": "stderr",
     "output_type": "stream",
     "text": [
      "C:\\Users\\anton\\AppData\\Local\\Temp\\ipykernel_29444\\1779533966.py:3: RuntimeWarning: overflow encountered in scalar divide\n",
      "  b = 1 / a\n",
      "C:\\Users\\anton\\AppData\\Local\\Temp\\ipykernel_29444\\1779533966.py:3: RuntimeWarning: divide by zero encountered in scalar divide\n",
      "  b = 1 / a\n"
     ]
    }
   ],
   "source": [
    "for x in np.logspace(2, 3, num=50):\n",
    "    a = np.exp(-x)\n",
    "    b = 1 / a\n",
    "    c = np.log(b)\n",
    "    print(\"x = \", -x, \" exp=\", c)"
   ]
  }
 ],
 "metadata": {
  "kernelspec": {
   "display_name": "Python 3",
   "language": "python",
   "name": "python3"
  },
  "language_info": {
   "codemirror_mode": {
    "name": "ipython",
    "version": 3
   },
   "file_extension": ".py",
   "mimetype": "text/x-python",
   "name": "python",
   "nbconvert_exporter": "python",
   "pygments_lexer": "ipython3",
   "version": "3.10.9"
  },
  "orig_nbformat": 4,
  "vscode": {
   "interpreter": {
    "hash": "dc9198d752fabc74015ca3ce8d5de7530466fab88e0eb7c14aeb98fcedbad7af"
   }
  }
 },
 "nbformat": 4,
 "nbformat_minor": 2
}
